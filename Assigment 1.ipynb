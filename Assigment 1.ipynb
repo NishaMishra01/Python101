{
 "cells": [
  {
   "cell_type": "markdown",
   "metadata": {},
   "source": [
    "## Program to find the Largest Number in a List "
   ]
  },
  {
   "cell_type": "code",
   "execution_count": 3,
   "metadata": {},
   "outputs": [
    {
     "name": "stdout",
     "output_type": "stream",
     "text": [
      "Largest number is : 98\n"
     ]
    }
   ],
   "source": [
    "list = [30,50,23,21,70,45,89,98]\n",
    "list.sort()\n",
    "print('Largest number is :',list[-1])"
   ]
  },
  {
   "cell_type": "markdown",
   "metadata": {},
   "source": [
    "## Program to find the second largest Number"
   ]
  },
  {
   "cell_type": "code",
   "execution_count": 4,
   "metadata": {},
   "outputs": [
    {
     "name": "stdout",
     "output_type": "stream",
     "text": [
      "The second largest number is : 89\n"
     ]
    }
   ],
   "source": [
    "list = [30,50,23,21,70,45,89,98]\n",
    "new_list = set(list)\n",
    "new_list.remove(max(new_list))   #removing the largest element from list\n",
    "print('The second largest number is :',max(new_list))"
   ]
  },
  {
   "cell_type": "markdown",
   "metadata": {},
   "source": [
    "## Program to merge the list and sort it "
   ]
  },
  {
   "cell_type": "code",
   "execution_count": 10,
   "metadata": {},
   "outputs": [
    {
     "name": "stdout",
     "output_type": "stream",
     "text": [
      "Enter number of elements:4\n",
      "Enter element:34\n",
      "Enter element:67\n",
      "Enter element:89\n",
      "Enter element:43\n",
      "Enter number of elemets:3\n",
      "Enter element:45\n",
      "Enter element:78\n",
      "Enter element:98\n",
      "Sorted list is: [34, 43, 45, 67, 78, 89, 98]\n"
     ]
    }
   ],
   "source": [
    "a = []\n",
    "c = []\n",
    "new = []\n",
    "n = int(input(\"Enter number of elements:\"))\n",
    "for i in range(1,n+1):\n",
    "    b = int(input(\"Enter element:\"))\n",
    "    a.append(b)\n",
    "n1 = int(input(\"Enter number of elemets:\"))\n",
    "for i in range(1,n1+1):\n",
    "    d = int(input(\"Enter element:\"))\n",
    "    c.append(d)\n",
    "new = a+c\n",
    "new.sort()\n",
    "print(\"Sorted list is:\",new)    "
   ]
  },
  {
   "cell_type": "markdown",
   "metadata": {},
   "source": [
    "# program to swap the first and last value of a list"
   ]
  },
  {
   "cell_type": "code",
   "execution_count": 11,
   "metadata": {},
   "outputs": [
    {
     "name": "stdout",
     "output_type": "stream",
     "text": [
      "Enter the number of elements in list:5\n",
      "Enter element:23\n",
      "Enter element:45\n",
      "Enter element:56\n",
      "Enter element:67\n",
      "Enter element:69\n",
      "New list is :\n",
      "[69, 45, 56, 67, 23]\n"
     ]
    }
   ],
   "source": [
    "a = []\n",
    "n = int(input(\"Enter the number of elements in list:\"))\n",
    "for x in range(0,n):\n",
    "    element = int(input(\"Enter element:\"))\n",
    "    a.append(element)\n",
    "temp = a[0]\n",
    "a[0] = a[n-1]\n",
    "a[n-1] = temp\n",
    "print(\"New list is :\")\n",
    "print(a)"
   ]
  },
  {
   "cell_type": "code",
   "execution_count": null,
   "metadata": {},
   "outputs": [],
   "source": []
  }
 ],
 "metadata": {
  "kernelspec": {
   "display_name": "Python 3",
   "language": "python",
   "name": "python3"
  },
  "language_info": {
   "codemirror_mode": {
    "name": "ipython",
    "version": 3
   },
   "file_extension": ".py",
   "mimetype": "text/x-python",
   "name": "python",
   "nbconvert_exporter": "python",
   "pygments_lexer": "ipython3",
   "version": "3.7.6"
  }
 },
 "nbformat": 4,
 "nbformat_minor": 4
}
